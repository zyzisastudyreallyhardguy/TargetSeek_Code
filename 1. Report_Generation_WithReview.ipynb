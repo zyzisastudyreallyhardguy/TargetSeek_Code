{
 "cells": [
  {
   "cell_type": "markdown",
   "metadata": {},
   "source": [
    "# Report Generation with Reviewers\n",
    "\n",
    "This notebook demonstrates how to generate gene analysis reports with an additional review step. The process includes:\n",
    "\n",
    "1. Setting up the required API keys and environment\n",
    "2. Provide the disease name and gene list\n",
    "3. Generating detailed reports\n",
    "4. Reviewing the generated reports with reviewers (Optional)\n",
    "\n"
   ]
  },
  {
   "cell_type": "markdown",
   "metadata": {},
   "source": [
    "## 1. Setting up the required API keys and environment\n"
   ]
  },
  {
   "cell_type": "code",
   "execution_count": 1,
   "metadata": {},
   "outputs": [],
   "source": [
    "# First cell should include:\n",
    "import sys\n",
    "sys.path.append('..')\n",
    "from config import setup_api_keys\n",
    "\n",
    "# Configure your API keys in config.py first!\n",
    "setup_api_keys()"
   ]
  },
  {
   "cell_type": "markdown",
   "metadata": {},
   "source": [
    "## 2. Provide the disease name and gene list"
   ]
  },
  {
   "cell_type": "markdown",
   "metadata": {},
   "source": [
    "### Input Portal\n",
    "\n",
    "You need to provide the following information to generate a specific section of gene analysis reports:\n",
    "\n",
    "1. gene_list: a list of genes\n",
    "2. disease_name: the name of the disease\n",
    "3. section_name: the name of the section you want to generate\n"
   ]
  },
  {
   "cell_type": "code",
   "execution_count": 2,
   "metadata": {},
   "outputs": [],
   "source": [
    "from Report_Generation_AgentAnalyst.tools import get_gene_list, get_gene_full_name\n",
    "from Report_Generation_AgentAnalyst.run_section import directory_set_up\n",
    "import os"
   ]
  },
  {
   "cell_type": "code",
   "execution_count": 3,
   "metadata": {},
   "outputs": [
    {
     "name": "stdout",
     "output_type": "stream",
     "text": [
      "['PCSK9_proprotein_convertase_subtilisin/kexin_type_9']\n"
     ]
    }
   ],
   "source": [
    "#get current directory and stay at TargetSeek_Code level\n",
    "prefix = directory_set_up() + '/'\n",
    "\n",
    "# set the disease name\n",
    "disease_name = 'atherosclerosis'\n",
    "\n",
    "# set the gene list, please provide in the form of short gene code\n",
    "gene_list = ['PCSK9'] \n",
    "\n",
    "'''\n",
    "# if you want to generate reports for the five diseases mentioned in the paper\n",
    "# 'atherosclerosis', 'non_small_cell_lung_cancer', 'rheumatoid_arthritis', 'type2_diabetes', and 'inflammatory_bowel_disease'\n",
    "# you can use the following code to get the corresponding gene list\n",
    "\n",
    "disease_name = 'non_small_cell_lung_cancer'\n",
    "\n",
    "# get the gene list\n",
    "gene_list = get_gene_list(disease_name, prefix=prefix)\n",
    "'''\n",
    "\n",
    "# get the full gene name\n",
    "gene_list = [gene + '_' + get_gene_full_name(gene).replace(' ', '_').lower() for gene in gene_list]\n",
    "print(gene_list)"
   ]
  },
  {
   "cell_type": "code",
   "execution_count": 4,
   "metadata": {},
   "outputs": [
    {
     "data": {
      "text/plain": [
       "1"
      ]
     },
     "execution_count": 4,
     "metadata": {},
     "output_type": "execute_result"
    }
   ],
   "source": [
    "len(gene_list)"
   ]
  },
  {
   "cell_type": "markdown",
   "metadata": {},
   "source": [
    "## 3. Generating Detailed Reports\n",
    "\n",
    "The generation process will generate a detailed report for each gene in the gene list\n"
   ]
  },
  {
   "cell_type": "code",
   "execution_count": 5,
   "metadata": {},
   "outputs": [],
   "source": [
    "from Report_Generation_AgentAnalyst.run_section import *\n",
    "# from joblib import Parallel, delayed\n",
    "from tqdm import tqdm"
   ]
  },
  {
   "cell_type": "code",
   "execution_count": 6,
   "metadata": {},
   "outputs": [
    {
     "name": "stderr",
     "output_type": "stream",
     "text": [
      "  0%|          | 0/1 [00:00<?, ?it/s]"
     ]
    },
    {
     "name": "stdout",
     "output_type": "stream",
     "text": [
      "pcsk9 is processed.\n"
     ]
    },
    {
     "name": "stderr",
     "output_type": "stream",
     "text": [
      "100%|██████████| 1/1 [00:01<00:00,  1.01s/it]\n"
     ]
    }
   ],
   "source": [
    "for gene in tqdm(gene_list):\n",
    "    generate_with_progress(gene, disease_name, model_name = 'chatgpt-4o-latest')"
   ]
  },
  {
   "cell_type": "markdown",
   "metadata": {},
   "source": [
    "### Generated Report Location\n",
    "The complete generated report for each gene will be saved at:\n",
    "**Report_Generation_AgentAnalyst/reports/{disease_name}/{gene_name}/report_{gene_name}_all.md**\n",
    "\n",
    "For example, for the PCSK9 gene and atherosclerosis disease, the report will be at:\n",
    "**Report_Generation_AgentAnalyst/reports/atherosclerosis/pcsk9/report_pcsk9_all.md**"
   ]
  },
  {
   "cell_type": "markdown",
   "metadata": {},
   "source": [
    "## 4. Reviewing the generated reports with reviewers (Optional)\n",
    "\n",
    "The review process will review each section of the report to identify potential issues and improve the quality of the report.\n",
    "\n",
    "The refined reports will be saved in the feedback_repo/revised_reports_complete directory\n"
   ]
  },
  {
   "cell_type": "code",
   "execution_count": 7,
   "metadata": {},
   "outputs": [],
   "source": [
    "os.chdir(prefix) # change the working directory to the target seek directory"
   ]
  },
  {
   "cell_type": "code",
   "execution_count": 8,
   "metadata": {},
   "outputs": [],
   "source": [
    "from Report_Generation_AgentAnalyst.tools import get_gene_list, get_gene_name_short\n",
    "from Report_Reviewing_AgentReviewer.reviewer_report import \\\n",
    "    run_parallel_refinement_for_a_gene, \\\n",
    "        process_section,\\\n",
    "        save_refined_report_all_sections"
   ]
  },
  {
   "cell_type": "code",
   "execution_count": 9,
   "metadata": {},
   "outputs": [],
   "source": [
    "# set up the sections to be reviewed\n",
    "sections = [\"lof\", \"gof\", \"assays\", \"competitive_edge\", \"druggability\",\n",
    "            \"in_vitro_or_vivo_data\", \"mechanism_of_action\", \"safety\"]"
   ]
  },
  {
   "cell_type": "code",
   "execution_count": 10,
   "metadata": {},
   "outputs": [],
   "source": [
    "os.chdir(prefix)\n",
    "\n",
    "md_dir = prefix + f'/Report_Generation_AgentAnalyst/reports'\n",
    "\n",
    "save_dir = prefix + '/Report_Reviewing_AgentReviewer/feedback_repo/summary_feedback_tmp/'\n",
    "if not os.path.exists(save_dir):\n",
    "    os.mkdir(save_dir)\n",
    "\n",
    "mistake_pool_file = prefix + '/Report_Reviewing_AgentReviewer/mistake_pool/mistake_pool_0918.json' "
   ]
  },
  {
   "cell_type": "code",
   "execution_count": 11,
   "metadata": {},
   "outputs": [],
   "source": [
    "short_gene_name_list = [gene.split('_')[0].lower() for gene in gene_list]"
   ]
  },
  {
   "cell_type": "code",
   "execution_count": 12,
   "metadata": {},
   "outputs": [
    {
     "name": "stderr",
     "output_type": "stream",
     "text": [
      "  0%|          | 0/1 [00:00<?, ?it/s]"
     ]
    },
    {
     "name": "stdout",
     "output_type": "stream",
     "text": [
      "processing pcsk9\n"
     ]
    },
    {
     "name": "stderr",
     "output_type": "stream",
     "text": [
      "/Users/yzhe0006/models/TargetSeek_Code/Report_Reviewing_AgentReviewer/functions.py:200: LangChainDeprecationWarning: The class `LLMChain` was deprecated in LangChain 0.1.17 and will be removed in 1.0. Use :meth:`~RunnableSequence, e.g., `prompt | llm`` instead.\n",
      "  llm_chain = LLMChain(llm=llm, prompt=mistake_pool_prompts)\n",
      "/Users/yzhe0006/models/TargetSeek_Code/Report_Reviewing_AgentReviewer/functions.py:202: LangChainDeprecationWarning: The method `Chain.run` was deprecated in langchain 0.1.0 and will be removed in 1.0. Use :meth:`~invoke` instead.\n",
      "  mistake_pool_response = llm_chain.run(mistake_pool=mistake_pool, report=report, summarized_feedback=summarize_feedback)\n"
     ]
    },
    {
     "name": "stdout",
     "output_type": "stream",
     "text": [
      "error in saving mistake pools\n",
      "mistake pool response is ```python\n",
      "mistakePool = {\n",
      "    'Included irrelevant content to the target gene': 'The row in the table is not **directly** related to the gene of interest||Action: Delete the content.',\n",
      "    'Logical error': 'A mutation cannot simultaneously be both gain of function and loss of function||Action: You should remove one of them.',\n",
      "    'Redundant reference': 'Some references are not used. ||Action: Delete the references.',\n",
      "    'Incorrect reference': 'The reference provided does not support the claim made in the report||Action: Delete the relevant content and the references, unless you find the correct one that supports the claim.',\n",
      "    'Incorrect Genetic Loci': 'The genetic loci associated with the amino acid change is incorrect||Action: Update the genetic loci to the correct one.',\n",
      "    'Incomplete Traits Association': 'The traits associated with the genetic variant are incomplete||Action: Update the traits to include all relevant associations.',\n",
      "    'Unverified Genetic Loci and Amino Acid Change Association': 'The association of the genetic loci with the amino acid change is not verified||Action: Verify the genetic loci and amino acid change from a reliable database or source before including it in the report.',\n",
      "    'Incorrect Reference Citations and Claims': 'Not all references support the associated claims, and some claims were found to be incorrect||Action: Update the references to ensure they correctly support the claims for the respective genetic loci and amino acid changes. Specifically, remove incorrect rows and verify the correct information before citation.',\n",
      "    'Outdated Information': 'The status or details of the drug in the pipeline are not current||Action: Update the status or details based on the latest available information.',\n",
      "    'Incomplete Adverse Effects Description': 'The safety profile section does not include all potential side effects||Action: Update the safety profile to include gastrointestinal disorders, infections, and any other potential side effects reported.',\n",
      "    'Unbalanced Safety View': 'The reporting of adverse events for a drug is incomplete, missing significant severe adverse events||Action: Include instances of significant severe adverse events for a balanced view.',\n",
      "    'Misleading Animal Model Translation': 'Upregulation in animal models is suggested to translate directly to human adverse effects without clarification||Action: Clarify limitations of animal model studies and indicate that the upregulation may not directly translate to human adverse effects.',\n",
      "    'Overgeneralization': 'Mouse studies are generalized to human outcomes without clarification||Action: Specify that mouse studies provide useful insights but do not perfectly represent the human clinical safety profile.'\n",
      "}\n",
      "```\n",
      "/Users/yzhe0006/models/TargetSeek_Code/Report_Reviewing_AgentReviewer/feedback_repo/summary_feedback_tmp/refine_reports/atherosclerosis/pcsk9\n",
      "/Users/yzhe0006/models/TargetSeek_Code/Report_Reviewing_AgentReviewer/feedback_repo/summary_feedback_tmp/refine_reports/atherosclerosis/pcsk9\n",
      "/Users/yzhe0006/models/TargetSeek_Code/Report_Reviewing_AgentReviewer/feedback_repo/summary_feedback_tmp/refine_reports/atherosclerosis/pcsk9\n",
      "error in saving mistake pools\n",
      "mistake pool response is ```python\n",
      "mistakePool = {\n",
      "    'Included irrelevant content to the target gene': 'The row in the table is not **directly** related to the gene of interest||Action: Delete the content.',\n",
      "    'Logical error': 'A mutation cannot simultaneously be both gain of function and loss of function||Action: You should remove one of them.',\n",
      "    'Redundant reference': 'Some references are not used. ||Action: Delete the references.',\n",
      "    'Incorrect reference': 'The reference provided does not support the claim made in the report||Action: Delete the relevant content and the references, unless you find the correct one that supports the claim.',\n",
      "    'Incorrect Genetic Loci': 'The genetic loci associated with the amino acid change is incorrect||Action: Update the genetic loci to the correct one.',\n",
      "    'Incomplete Traits Association': 'The traits associated with the genetic variant are incomplete||Action: Update the traits to include all relevant associations.',\n",
      "    'Unverified Genetic Loci and Amino Acid Change Association': 'The association of the genetic loci with the amino acid change is not verified||Action: Verify the genetic loci and amino acid change from a reliable database or source before including it in the report.',\n",
      "    'Incorrect Reference Citations and Claims': 'Not all references support the associated claims, and some claims were found to be incorrect||Action: Update the references to ensure they correctly support the claims for the respective genetic loci and amino acid changes. Specifically, remove incorrect rows and verify the correct information before citation.',\n",
      "    'Outdated Information': 'The status or details of the drug in the pipeline are not current||Action: Update the status or details based on the latest available information.',\n",
      "    'Incomplete Adverse Effects Description': 'The safety profile section does not include all potential side effects||Action: Update the safety profile to include gastrointestinal disorders, infections, and any other potential side effects reported.',\n",
      "    'Unbalanced Safety View': 'The reporting of adverse events for a drug is incomplete, missing significant severe adverse events||Action: Include instances of significant severe adverse events for a balanced view.',\n",
      "    'Misleading Animal Model Translation': 'Upregulation in animal models is suggested to translate directly to human adverse effects without clarification||Action: Clarify limitations of animal model studies and indicate that the upregulation may not directly translate to human adverse effects.',\n",
      "    'Overgeneralization': 'Mouse studies are generalized to human outcomes without clarification||Action: Specify that mouse studies provide useful insights but do not perfectly represent the human clinical safety profile.',\n",
      "    'Typographical Error': 'A typographical error is present in the text||Action: Correct the typo to ensure accurate information.',\n",
      "    'Unverified Reference': 'The reference provided could not be verified with the given URL, or the title does not match available search results||Action: Verify the reference again or provide the correct URL and ensure it correctly supports the claims.',\n",
      "    'Inappropriate Cell Model': 'The cell model used in the assay is not the most relevant for the study||Action: Revise the cell model to a more relevant one.',\n",
      "    'Interference in ELISA': 'Competitive ELISA used in the assay may face interference issues||Action: Mention that improved methods like direct target ELISA or indirect target capture ELISA should be employed to reduce interference.',\n",
      "    'CRISPR-Cas9 Efficiency Measurement': 'Efficiency measurement of CRISPR-Cas9 was restricted to liver tissue||Action: Indicate that CRISPR-Cas9 efficiency can be measured in any target tissue where gene editing is intended.',\n",
      "    'Incorrect Reference for CRISPR-Cas9': 'The reference provided for the CRISPR-Cas9 efficiency check does not support the claim||Action: Replace the incorrect reference with a relevant one showing CRISPR-Cas9 mediated knockout efficiency in the correct tissue.'\n",
      "}\n",
      "```\n",
      "/Users/yzhe0006/models/TargetSeek_Code/Report_Reviewing_AgentReviewer/feedback_repo/summary_feedback_tmp/refine_reports/atherosclerosis/pcsk9\n",
      "/Users/yzhe0006/models/TargetSeek_Code/Report_Reviewing_AgentReviewer/feedback_repo/summary_feedback_tmp/refine_reports/atherosclerosis/pcsk9\n",
      "/Users/yzhe0006/models/TargetSeek_Code/Report_Reviewing_AgentReviewer/feedback_repo/summary_feedback_tmp/refine_reports/atherosclerosis/pcsk9\n",
      "/Users/yzhe0006/models/TargetSeek_Code/Report_Reviewing_AgentReviewer/feedback_repo/summary_feedback_tmp/refine_reports/atherosclerosis/pcsk9\n"
     ]
    },
    {
     "name": "stderr",
     "output_type": "stream",
     "text": [
      "100%|██████████| 1/1 [01:11<00:00, 71.11s/it]"
     ]
    },
    {
     "name": "stdout",
     "output_type": "stream",
     "text": [
      "/Users/yzhe0006/models/TargetSeek_Code/Report_Reviewing_AgentReviewer/feedback_repo/summary_feedback_tmp/refine_reports/atherosclerosis/pcsk9\n"
     ]
    },
    {
     "name": "stderr",
     "output_type": "stream",
     "text": [
      "\n"
     ]
    }
   ],
   "source": [
    "from tqdm import tqdm\n",
    "\n",
    "for gene in tqdm(short_gene_name_list):\n",
    "    print(f'processing {gene}')\n",
    "    #check if the gene report has been refined\n",
    "    # if os.path.exists(save_dir + 'refine_reports/' + f'/{disease_name}/{gene}'):\n",
    "    #     print(f'{gene} has been refined')\n",
    "    #     continue\n",
    "    results = run_parallel_refinement_for_a_gene(gene, disease_name, sections, save_dir, md_dir, mistake_pool_file)"
   ]
  },
  {
   "cell_type": "code",
   "execution_count": 13,
   "metadata": {},
   "outputs": [
    {
     "name": "stderr",
     "output_type": "stream",
     "text": [
      "100%|██████████| 1/1 [00:00<00:00, 203.41it/s]\n"
     ]
    }
   ],
   "source": [
    "for gene in tqdm(short_gene_name_list):\n",
    "    save_refined_report_all_sections(gene, disease_name, save_dir)"
   ]
  },
  {
   "cell_type": "markdown",
   "metadata": {},
   "source": [
    "### Refined Report Location\n",
    "The complete refined report for each gene will be saved at:\n",
    "**Report_Reviewing_AgentReviewer/feedback_repo/summary_feedback_tmp/refine_reports/{disease_name}/{gene_name}/report_{gene_name}_all.md**\n",
    "\n",
    "For example, for the PCSK9 gene and atherosclerosis disease, the report will be at:\n",
    "**Report_Reviewing_AgentReviewer/feedback_repo/summary_feedback_tmp/refine_reports/atherosclerosis/pcsk9/report_pcsk9_all.md**"
   ]
  }
 ],
 "metadata": {
  "kernelspec": {
   "display_name": "targetseek_env",
   "language": "python",
   "name": "python3"
  },
  "language_info": {
   "codemirror_mode": {
    "name": "ipython",
    "version": 3
   },
   "file_extension": ".py",
   "mimetype": "text/x-python",
   "name": "python",
   "nbconvert_exporter": "python",
   "pygments_lexer": "ipython3",
   "version": "3.9.7"
  },
  "orig_nbformat": 4
 },
 "nbformat": 4,
 "nbformat_minor": 2
}
